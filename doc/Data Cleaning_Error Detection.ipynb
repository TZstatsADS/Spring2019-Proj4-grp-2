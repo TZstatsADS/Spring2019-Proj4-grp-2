{
 "cells": [
  {
   "cell_type": "code",
   "execution_count": null,
   "metadata": {},
   "outputs": [],
   "source": [
    "import pandas as pd\n",
    "import numpy as np\n",
    "import os\n",
    "import re\n",
    "import string"
   ]
  },
  {
   "cell_type": "code",
   "execution_count": null,
   "metadata": {},
   "outputs": [],
   "source": [
    "file_list = os.listdir(\"../data/ground_truth\")\n",
    "#create and save error terms in error_list\n",
    "error_df = pd.DataFrame()\n",
    "tess_error_list = list()\n",
    "ground_error_list = list()\n",
    "\n",
    "for file in file_list:\n",
    "    #read ground_truth lines\n",
    "    ground_truth_file_path = \"../data/ground_truth_trimmed/\"+str(file)\n",
    "    ground_truth = open(ground_truth_file_path, \"r\",encoding=\"utf8\")\n",
    "    ground_truth_lines = ground_truth.read().split('\\n')\n",
    "    \n",
    "    #read tesseract lines\n",
    "    tesseract_file_path = \"../data/tesseract/\"+str(file)\n",
    "    tesseract = open(tesseract_file_path, \"r\",encoding=\"utf8\") \n",
    "    tesseract_lines = tesseract.read().split('\\n')\n",
    "    \n",
    "    #print(tesseract_lines)\n",
    "    #print(ground_truth_lines)\n",
    "    \n",
    "    #define function: get words split by space\n",
    "    def get_words(lines):\n",
    "        lines_list = list()\n",
    "        for element in lines:\n",
    "            #element  = element.split(\" \")         \n",
    "            element = [ word for word in element.split(\" \") if not word.isdigit() and word not in string.punctuation]\n",
    "            lines_list.append(element)\n",
    "        return lines_list\n",
    "    \n",
    "    #create documents for tesseract and ground truth\n",
    "    tesseract_doc = get_words(tesseract_lines)\n",
    "    ground_truth_doc = get_words(ground_truth_lines)\n",
    "    \n",
    "    tess_len = len(tesseract_doc)\n",
    "    ground_len = len(ground_truth_doc)\n",
    "    \n",
    "    ###############################################\n",
    "    #######      Check for Mismatch          ######\n",
    "    ###############################################\n",
    "    \n",
    "    ##if tess_len != ground_len:\n",
    "    ##    print(file)\n",
    "    \n",
    "    #####After Trimming 13 mismatched files, no mismatch in number of lines detected\n",
    "    \n",
    "    \n",
    "    \n",
    "    #create and save error terms in error_list\n",
    "    #error_df = pd.DataFrame()\n",
    "    #tess_error_list = list()\n",
    "    #ground_error_list = list()\n",
    "    for i in range(len(tesseract_doc)):\n",
    "        if len(tesseract_doc[i]) == len(ground_truth_doc[i]):\n",
    "            tess = tesseract_doc[i]\n",
    "            ground = ground_truth_doc[i]\n",
    "            for j in range(len(tess)):\n",
    "                #if tess[j] != ground[j]:\n",
    "                    tess_error_list.append(tess[j])\n",
    "                    ground_error_list.append(ground[j])\n",
    "                    \n",
    "error_df['Tesseract'] = tess_error_list\n",
    "error_df['Ground_Truth'] = ground_error_list"
   ]
  },
  {
   "cell_type": "code",
   "execution_count": null,
   "metadata": {},
   "outputs": [],
   "source": [
    "###############################################\n",
    "#######      Error Detection Part         #####\n",
    "###############################################\n",
    "import string\n",
    "import itertools\n",
    "import re\n",
    "\n",
    "def error_detect(word):\n",
    "    #rule_1\n",
    "    rule_1 = len(list(word))>20\n",
    "    \n",
    "    #rule_2\n",
    "    num_punct = len([char for char in word if char in string.punctuation])\n",
    "    num_alpha = len([char for char in word if char.isalpha()])\n",
    "    rule_2 = num_punct>num_alpha\n",
    "    \n",
    "    #rule_3 \n",
    "    rule_3 = len(set([char for char in word[1:-1] if char in string.punctuation]))>=2\n",
    "    \n",
    "    #rule_4\n",
    "    rule_4 = max([len(list(v)) for k,v in itertools.groupby(word)])>=3\n",
    "    \n",
    "    #rule_5\n",
    "    num_upper = len([char for char in word if char.isupper()])\n",
    "    num_lower = len([char for char in word if char.islower()])\n",
    "    rule_5 = num_upper > num_lower and num_upper < len(word)\n",
    "    \n",
    "    #rule_6\n",
    "    if word.isalpha():\n",
    "        vowels = 'aeiouAEIOU'\n",
    "        num_vowels = len([char for char in word if char in vowels])\n",
    "        num_consonants = len(word) - num_vowels       \n",
    "        rule_6 = num_vowels > 8*num_consonants or num_consonants > 8*num_vowels\n",
    "    else : rule_6 = False\n",
    "    \n",
    "    #rule_7\n",
    "    try:\n",
    "        vowels_len = max([len(w) for w in re.findall(r'[aeiou]+',word,re.IGNORECASE)])\n",
    "    except ValueError:\n",
    "        vowels_len = 0 \n",
    "    try:\n",
    "        conson_len = max([len(w) for w in re.findall(r'[^aeiou]+',word,re.IGNORECASE)])\n",
    "    except ValueError:\n",
    "        conson_len = 0      \n",
    "    rule_7 = vowels_len>=4 or conson_len >=5\n",
    "    \n",
    "    #rule_8\n",
    "    rule_8 = word[0].islower() and word[-1].islower() and word[1:-1].isupper()\n",
    "\n",
    "    return rule_1 or rule_2 or rule_3 or rule_4 or rule_5 or rule_6 or rule_7 or rule_8\n",
    "\n",
    "#######Detect Error #######\n",
    "error_df.insert(loc =2, column=\"IS_error\", value= error_df.Tesseract.map(error_detect))"
   ]
  },
  {
   "cell_type": "code",
   "execution_count": null,
   "metadata": {},
   "outputs": [],
   "source": [
    "def remove_punc_digit(string):\n",
    "    string = re.sub(r'[^\\w\\s]','',string)\n",
    "    string = re.sub(r'[^\\D]','',string)\n",
    "    return string\n",
    "\n",
    "error_df['Tesseract'] = error_df['Tesseract'].apply(lambda x: remove_punc_digit(x))\n",
    "error_df['Ground_Truth'] = error_df['Ground_Truth'].apply(lambda x: remove_punc_digit(x))"
   ]
  },
  {
   "cell_type": "code",
   "execution_count": null,
   "metadata": {},
   "outputs": [],
   "source": [
    "#for index in range(len(error_df)):\n",
    "    #if error_df['Tesseract'][index].isdigit():\n",
    "        #error_df['Tesseract'][index] = None\n",
    "    #if error_df['Ground_Truth'][index].isdigit():\n",
    "        #error_df['Ground_Truth'][index] = None"
   ]
  },
  {
   "cell_type": "code",
   "execution_count": null,
   "metadata": {},
   "outputs": [],
   "source": [
    "error_df = error_df[error_df.IS_error==True]\n",
    "error_df = error_df.drop(columns=\"IS_error\")\n",
    "error_df.Tesseract.replace('', np.nan, inplace=True)\n",
    "error_df.Ground_Truth.replace('', np.nan, inplace=True)\n",
    "error_df = error_df.dropna()\n",
    "error_df = error_df.reset_index(drop = True)"
   ]
  },
  {
   "cell_type": "code",
   "execution_count": null,
   "metadata": {},
   "outputs": [],
   "source": [
    "error_df.to_csv(\"../data/Error_df_rules_based.csv\")"
   ]
  },
  {
   "cell_type": "code",
   "execution_count": null,
   "metadata": {},
   "outputs": [],
   "source": [
    "error_df"
   ]
  }
 ],
 "metadata": {
  "kernelspec": {
   "display_name": "Python 3",
   "language": "python",
   "name": "python3"
  },
  "language_info": {
   "codemirror_mode": {
    "name": "ipython",
    "version": 3
   },
   "file_extension": ".py",
   "mimetype": "text/x-python",
   "name": "python",
   "nbconvert_exporter": "python",
   "pygments_lexer": "ipython3",
   "version": "3.5.5"
  }
 },
 "nbformat": 4,
 "nbformat_minor": 2
}
