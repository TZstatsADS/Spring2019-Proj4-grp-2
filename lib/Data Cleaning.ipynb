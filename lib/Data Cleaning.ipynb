{
 "cells": [
  {
   "cell_type": "code",
   "execution_count": 71,
   "metadata": {},
   "outputs": [],
   "source": [
    "import pandas as pd\n",
    "import numpy as np\n",
    "import os\n",
    "import re"
   ]
  },
  {
   "cell_type": "code",
   "execution_count": 72,
   "metadata": {},
   "outputs": [],
   "source": [
    "file_list = os.listdir(\"C:/Users/Zixiao/Documents/GitHub/Spring2019-Proj4-grp-2/data/ground_truth\")\n",
    "\n",
    "for file in file_list:\n",
    "    #read ground_truth lines\n",
    "    ground_truth_file_path = \"C:/Users/Zixiao/Documents/GitHub/Spring2019-Proj4-grp-2/data/ground_truth_trimmed/\"+str(file)\n",
    "    ground_truth = open(ground_truth_file_path, \"r\",encoding=\"utf8\")\n",
    "    ground_truth_lines = ground_truth.read().split('\\n')\n",
    "    \n",
    "    #read tesseract lines\n",
    "    tesseract_file_path = \"C:/Users/Zixiao/Documents/GitHub/Spring2019-Proj4-grp-2/data/tesseract/\"+str(file)\n",
    "    tesseract = open(tesseract_file_path, \"r\",encoding=\"utf8\") \n",
    "    tesseract_lines = tesseract.read().split('\\n')\n",
    "    \n",
    "    #print(tesseract_lines)\n",
    "    #print(ground_truth_lines)\n",
    "    \n",
    "    #define function: get words split by space\n",
    "    def get_words(lines):\n",
    "        lines_list = list()\n",
    "        for element in lines:\n",
    "            element  = element.split(\" \")\n",
    "            lines_list.append(element)\n",
    "        return lines_list\n",
    "    \n",
    "    #create documents for tesseract and ground truth\n",
    "    tesseract_doc = get_words(tesseract_lines)\n",
    "    ground_truth_doc = get_words(ground_truth_lines)\n",
    "    \n",
    "    tess_len = len(tesseract_doc)\n",
    "    ground_len = len(ground_truth_doc)\n",
    "    \n",
    "    ###############################################\n",
    "    #######      Check for Mismatch          ######\n",
    "    ###############################################\n",
    "    \n",
    "    ##if tess_len != ground_len:\n",
    "    ##    print(file)\n",
    "    \n",
    "    #####After Trimming 13 mismatched files, no mismatch in number of lines detected\n",
    "    \n",
    "    #create and save error terms in error_list\n",
    "    error_df = pd.DataFrame()\n",
    "    tess_error_list = list()\n",
    "    ground_error_list = list()\n",
    "    for i in range(len(tesseract_doc)):\n",
    "        if len(tesseract_doc[i]) == len(ground_truth_doc[i]):\n",
    "            tess = tesseract_doc[i]\n",
    "            ground = ground_truth_doc[i]\n",
    "            for j in range(len(tess)):\n",
    "                if tess[j] != ground[j]:\n",
    "                    tess_error_list.append(tess[j])\n",
    "                    ground_error_list.append(ground[j])\n",
    "                    \n",
    "    error_df['Tesseract'] = tess_error_list\n",
    "    error_df['Ground_Truth'] = ground_error_list"
   ]
  },
  {
   "cell_type": "code",
   "execution_count": 73,
   "metadata": {},
   "outputs": [],
   "source": [
    "def remove_punc(string):\n",
    "    return re.sub(r'[^\\w\\s]','',string)\n",
    "\n",
    "error_df['Tesseract'] = error_df['Tesseract'].apply(lambda x: remove_punc(x))\n",
    "error_df['Ground_Truth'] = error_df['Ground_Truth'].apply(lambda x: remove_punc(x))"
   ]
  },
  {
   "cell_type": "code",
   "execution_count": 74,
   "metadata": {},
   "outputs": [],
   "source": [
    "for index in range(len(error_df)):\n",
    "    if error_df['Tesseract'][index].isdigit():\n",
    "        error_df['Tesseract'][index] = None\n",
    "    if error_df['Ground_Truth'][index].isdigit():\n",
    "        error_df['Ground_Truth'][index] = None"
   ]
  },
  {
   "cell_type": "code",
   "execution_count": 78,
   "metadata": {},
   "outputs": [],
   "source": [
    "error_df = error_df.dropna()\n",
    "error_df = error_df.reset_index(drop = True)"
   ]
  },
  {
   "cell_type": "code",
   "execution_count": 81,
   "metadata": {},
   "outputs": [],
   "source": [
    "error_df.to_csv(\"C:/Users/Zixiao/Documents/GitHub/Spring2019-Proj4-grp-2/data/Error_df.csv\")"
   ]
  }
 ],
 "metadata": {
  "kernelspec": {
   "display_name": "Python 3",
   "language": "python",
   "name": "python3"
  },
  "language_info": {
   "codemirror_mode": {
    "name": "ipython",
    "version": 3
   },
   "file_extension": ".py",
   "mimetype": "text/x-python",
   "name": "python",
   "nbconvert_exporter": "python",
   "pygments_lexer": "ipython3",
   "version": "3.6.6"
  }
 },
 "nbformat": 4,
 "nbformat_minor": 2
}
