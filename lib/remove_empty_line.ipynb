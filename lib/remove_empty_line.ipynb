{
 "cells": [
  {
   "cell_type": "code",
   "execution_count": null,
   "metadata": {},
   "outputs": [],
   "source": [
    "#############################################################################################################\n",
    "#### this function is to remove the lines for those with \"\" in either tess_err or ground_truth_err column ###\n",
    "#############################################################################################################\n",
    "\n",
    "def remove_empty_line(current_detect_output):\n",
    "    empty_index = "
   ]
  },
  {
   "cell_type": "code",
   "execution_count": null,
   "metadata": {},
   "outputs": [],
   "source": [
    "#############################################################################################################\n",
    "#### this function is to remove the lines for those with \"\" in either tess_err or ground_truth_err column ###\n",
    "#############################################################################################################\n",
    "\n",
    "remove_empty_line <- function(current_detect_output){\n",
    "  empty_index <- which(current_detect_output[,1] == \"\" |  current_detect_output[,2] == \"\")\n",
    "  \n",
    "  if (length(empty_index)>0){\n",
    "    current_detect_output <- current_detect_output[-empty_index,]\n",
    "  }\n",
    "  \n",
    "  return(current_detect_output)\n",
    "}"
   ]
  }
 ],
 "metadata": {
  "kernelspec": {
   "display_name": "Python 3",
   "language": "python",
   "name": "python3"
  },
  "language_info": {
   "codemirror_mode": {
    "name": "ipython",
    "version": 3
   },
   "file_extension": ".py",
   "mimetype": "text/x-python",
   "name": "python",
   "nbconvert_exporter": "python",
   "pygments_lexer": "ipython3",
   "version": "3.6.6"
  }
 },
 "nbformat": 4,
 "nbformat_minor": 2
}
