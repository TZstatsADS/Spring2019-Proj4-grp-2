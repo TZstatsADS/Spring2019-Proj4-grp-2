{
 "cells": [
  {
   "cell_type": "markdown",
   "metadata": {},
   "source": [
    "#### Loading packages"
   ]
  },
  {
   "cell_type": "code",
   "execution_count": 1,
   "metadata": {
    "collapsed": true
   },
   "outputs": [],
   "source": [
    "import glob\n",
    "import errno\n",
    "import string\n",
    "import numpy as np\n",
    "import csv\n",
    "import pandas as pd\n",
    "import time"
   ]
  },
  {
   "cell_type": "markdown",
   "metadata": {},
   "source": [
    "#### Creating corpus"
   ]
  },
  {
   "cell_type": "code",
   "execution_count": 2,
   "metadata": {
    "collapsed": true
   },
   "outputs": [],
   "source": [
    "truth = []\n",
    "path = 'data/ground_truth/*.txt'\n",
    "files = glob.glob(path)\n",
    "for name in files:\n",
    "    try:\n",
    "        with open(name, encoding='utf8') as f:\n",
    "            for line in f:\n",
    "                out = line.translate(str.maketrans('', '', string.punctuation))\n",
    "                out = ''.join([i for i in out if not i.isdigit()])\n",
    "                out = out.lower().split()\n",
    "                truth.extend(out)\n",
    "    except IOError as exc:\n",
    "        if exc.errno != errno.EISDIR:\n",
    "            raise\n",
    "np.savetxt('output/truth_corpus.dat', truth, fmt='%s', encoding='utf8')\n",
    "\n",
    "tess = []\n",
    "path = 'data/tesseract/*.txt'\n",
    "files = glob.glob(path)\n",
    "for name in files:\n",
    "    try:\n",
    "        with open(name, encoding='utf8') as f:\n",
    "            for line in f:\n",
    "                out = line.translate(str.maketrans('', '', string.punctuation))\n",
    "                out = ''.join([i for i in out if not i.isdigit()])\n",
    "                out = out.lower().split()\n",
    "                tess.extend(out)\n",
    "    except IOError as exc:\n",
    "        if exc.errno != errno.EISDIR:\n",
    "            raise\n",
    "np.savetxt('output/tess_corpus.dat', tess, fmt='%s', encoding='utf8')"
   ]
  },
  {
   "cell_type": "markdown",
   "metadata": {},
   "source": [
    "#### Reading data for feature extraction"
   ]
  },
  {
   "cell_type": "code",
   "execution_count": 3,
   "metadata": {
    "collapsed": true
   },
   "outputs": [],
   "source": [
    "Error = []\n",
    "Truth = []\n",
    "pair = []\n",
    "with open('data/Error_df_rules_based.csv', encoding='utf8') as f:\n",
    "    csv_reader = csv.reader(f, delimiter=',')\n",
    "    for row in csv_reader:\n",
    "        err = row[1].lower()\n",
    "        trt = row[2].lower()\n",
    "        if err != trt and [err, trt] not in pair:\n",
    "            Error.append(err)\n",
    "            Truth.append(trt)\n",
    "            pair.append([err, trt])\n",
    "            \n",
    "Error = Error[2:]\n",
    "Truth = Truth[2:]"
   ]
  },
  {
   "cell_type": "markdown",
   "metadata": {},
   "source": [
    "#### Feature extraction"
   ]
  },
  {
   "cell_type": "code",
   "execution_count": 4,
   "metadata": {
    "collapsed": true
   },
   "outputs": [],
   "source": [
    "from lib.feature_scoring import n_gram\n",
    "from lib.feature_scoring import candidate_search\n",
    "from lib.feature_scoring import LED_score\n",
    "from lib.feature_scoring import SS_score\n",
    "from lib.feature_scoring import LP_score\n",
    "from lib.feature_scoring import ECP_score\n",
    "from lib.feature_scoring import RCP_score"
   ]
  },
  {
   "cell_type": "code",
   "execution_count": 7,
   "metadata": {
    "collapsed": false,
    "scrolled": false
   },
   "outputs": [
    {
     "name": "stdout",
     "output_type": "stream",
     "text": [
      "word  1 , error:  willlam , truth:  william\n",
      "word  2 , error:  nvolvng , truth:  involving\n",
      "word  3 , error:  t , truth:  the\n",
      "word  4 , error:  aflcid , truth:  aflcio\n",
      "word  5 , error:  cmng , truth:  attaching\n",
      "word  6 , error:  admlnlstratlons , truth:  administrations\n",
      "word  7 , error:  d , truth:  gold\n",
      "word  8 , error:  jurlsdlctlon , truth:  jurisdiction\n",
      "word  9 , error:  m , truth:  to\n",
      "word  10 , error:  mm , truth:  bill\n"
     ]
    },
    {
     "ename": "KeyboardInterrupt",
     "evalue": "",
     "output_type": "error",
     "traceback": [
      "\u001b[1;31m---------------------------------------------------------------------------\u001b[0m",
      "\u001b[1;31mKeyboardInterrupt\u001b[0m                         Traceback (most recent call last)",
      "\u001b[1;32m<ipython-input-7-7fcabd9fda42>\u001b[0m in \u001b[0;36m<module>\u001b[1;34m()\u001b[0m\n\u001b[0;32m     28\u001b[0m         \u001b[0mled\u001b[0m \u001b[1;33m=\u001b[0m \u001b[0mLED_score\u001b[0m\u001b[1;33m(\u001b[0m\u001b[0mw_e\u001b[0m\u001b[1;33m,\u001b[0m \u001b[0ms\u001b[0m\u001b[1;33m)\u001b[0m\u001b[1;33m\u001b[0m\u001b[0m\n\u001b[0;32m     29\u001b[0m         \u001b[0mss\u001b[0m \u001b[1;33m=\u001b[0m \u001b[0mSS_score\u001b[0m\u001b[1;33m(\u001b[0m\u001b[0mw_e\u001b[0m\u001b[1;33m,\u001b[0m \u001b[0ms\u001b[0m\u001b[1;33m,\u001b[0m \u001b[0mN\u001b[0m\u001b[1;33m=\u001b[0m\u001b[1;36m3\u001b[0m\u001b[1;33m)\u001b[0m\u001b[1;33m\u001b[0m\u001b[0m\n\u001b[1;32m---> 30\u001b[1;33m         \u001b[0mlp\u001b[0m \u001b[1;33m=\u001b[0m \u001b[0mLP_score\u001b[0m\u001b[1;33m(\u001b[0m\u001b[0ms\u001b[0m\u001b[1;33m,\u001b[0m \u001b[0mtruth\u001b[0m\u001b[1;33m)\u001b[0m\u001b[1;33m/\u001b[0m\u001b[0mmax\u001b[0m\u001b[1;33m(\u001b[0m\u001b[0mLP_freq\u001b[0m\u001b[1;33m)\u001b[0m\u001b[1;33m\u001b[0m\u001b[0m\n\u001b[0m\u001b[0;32m     31\u001b[0m \u001b[1;31m#        if max(ECP_freq)==0: ecp=0\u001b[0m\u001b[1;33m\u001b[0m\u001b[1;33m\u001b[0m\u001b[0m\n\u001b[0;32m     32\u001b[0m \u001b[1;31m#        else: ecp = ECP_score(gram_list, s, truth, n)/max(ECP_freq)\u001b[0m\u001b[1;33m\u001b[0m\u001b[1;33m\u001b[0m\u001b[0m\n",
      "\u001b[1;32m/home/zongbocaizb/Spring2019-Proj4-grp2-master/lib/feature_scoring.py\u001b[0m in \u001b[0;36mLP_score\u001b[1;34m(w_cand, corpus)\u001b[0m\n\u001b[0;32m     80\u001b[0m \u001b[1;33m\u001b[0m\u001b[0m\n\u001b[0;32m     81\u001b[0m \u001b[1;32mdef\u001b[0m \u001b[0mLP_score\u001b[0m\u001b[1;33m(\u001b[0m\u001b[0mw_cand\u001b[0m\u001b[1;33m,\u001b[0m \u001b[0mcorpus\u001b[0m\u001b[1;33m)\u001b[0m\u001b[1;33m:\u001b[0m\u001b[1;33m\u001b[0m\u001b[0m\n\u001b[1;32m---> 82\u001b[1;33m     \u001b[0mfreq\u001b[0m \u001b[1;33m=\u001b[0m \u001b[0mcorpus\u001b[0m\u001b[1;33m.\u001b[0m\u001b[0mcount\u001b[0m\u001b[1;33m(\u001b[0m\u001b[0mw_cand\u001b[0m\u001b[1;33m)\u001b[0m\u001b[1;33m\u001b[0m\u001b[0m\n\u001b[0m\u001b[0;32m     83\u001b[0m     \u001b[1;32mreturn\u001b[0m \u001b[0mfreq\u001b[0m\u001b[1;33m\u001b[0m\u001b[0m\n\u001b[0;32m     84\u001b[0m \u001b[1;33m\u001b[0m\u001b[0m\n",
      "\u001b[1;31mKeyboardInterrupt\u001b[0m: "
     ]
    }
   ],
   "source": [
    "W_error=['Typo']\n",
    "W_truth=['Truth']\n",
    "W_cand = ['Candidate']\n",
    "Label = ['Label']\n",
    "LED = ['led_score']\n",
    "SS = ['ss_score']\n",
    "LP = ['lp_score']\n",
    "ECP = ['ECP_score']\n",
    "\n",
    "n = 3 # n_gram\n",
    "for i in range(len(Error)):\n",
    "    w_e = Error[i]\n",
    "    w_c = Truth[i]\n",
    "    cand_list = candidate_search(truth, w_e)\n",
    "    print('word ',i+1,', error: ', w_e, ', truth: ', w_c)\n",
    "    \n",
    "#    gram_list = n_gram(w_e, tess, n)\n",
    "    LP_freq = []\n",
    "#    ECP_freq = []\n",
    "    for s in cand_list:\n",
    "        lp_freq = LP_score(s, truth)\n",
    "        LP_freq.append(lp_freq)\n",
    "#        ecp_freq = ECP_score(gram_list, s, truth, n)\n",
    "#       ECP_freq.append(ecp_freq)\n",
    "        \n",
    "    for j in range(len(cand_list)):\n",
    "        s = cand_list[j]\n",
    "        led = LED_score(w_e, s)\n",
    "        ss = SS_score(w_e, s, N=3)\n",
    "        lp = LP_score(s, truth)/max(LP_freq)\n",
    "#        if max(ECP_freq)==0: ecp=0\n",
    "#        else: ecp = ECP_score(gram_list, s, truth, n)/max(ECP_freq)\n",
    "#        rcp = RCP_score(w_e, s, tess, truth)\n",
    "        label = int(s == w_c)\n",
    "#        print('candidate:', s, '\\tscores =', '{:03.2f}'.format(led),', {:03.2f}'.format(ss),', {:06.5f}'.format(lp), '\\tlabel=', label)\n",
    "        W_error.append(w_e)\n",
    "        W_truth.append(w_c)\n",
    "        W_cand.append(s)\n",
    "        Label.append(label)\n",
    "        LED.append(led)\n",
    "        SS.append(ss)\n",
    "        LP.append(lp)\n",
    "        #ECP.append(ecp)"
   ]
  },
  {
   "cell_type": "code",
   "execution_count": 12,
   "metadata": {
    "collapsed": true
   },
   "outputs": [],
   "source": [
    "np.savetxt('output/feature.csv', [p for p in zip(W_error, W_truth, W_cand, LED, SS, LP, Label)], delimiter=',', fmt='%s', encoding='utf-8')"
   ]
  },
  {
   "cell_type": "markdown",
   "metadata": {},
   "source": [
    "## Parameter Tunning"
   ]
  },
  {
   "cell_type": "markdown",
   "metadata": {},
   "source": [
    "#### Retreive Data"
   ]
  },
  {
   "cell_type": "code",
   "execution_count": 2,
   "metadata": {
    "collapsed": true
   },
   "outputs": [],
   "source": [
    "from sklearn.model_selection import GridSearchCV\n",
    "from sklearn.ensemble import AdaBoostClassifier"
   ]
  },
  {
   "cell_type": "code",
   "execution_count": 3,
   "metadata": {
    "collapsed": false
   },
   "outputs": [],
   "source": [
    "feature_output = pd.read_csv('output/feature.csv', delimiter = ',')"
   ]
  },
  {
   "cell_type": "code",
   "execution_count": 4,
   "metadata": {
    "collapsed": false
   },
   "outputs": [
    {
     "data": {
      "text/html": [
       "<div>\n",
       "<style scoped>\n",
       "    .dataframe tbody tr th:only-of-type {\n",
       "        vertical-align: middle;\n",
       "    }\n",
       "\n",
       "    .dataframe tbody tr th {\n",
       "        vertical-align: top;\n",
       "    }\n",
       "\n",
       "    .dataframe thead th {\n",
       "        text-align: right;\n",
       "    }\n",
       "</style>\n",
       "<table border=\"1\" class=\"dataframe\">\n",
       "  <thead>\n",
       "    <tr style=\"text-align: right;\">\n",
       "      <th></th>\n",
       "      <th>Typo</th>\n",
       "      <th>Truth</th>\n",
       "      <th>Candidate</th>\n",
       "      <th>led_score</th>\n",
       "      <th>ss_score</th>\n",
       "      <th>lp_score</th>\n",
       "      <th>Label</th>\n",
       "    </tr>\n",
       "  </thead>\n",
       "  <tbody>\n",
       "    <tr>\n",
       "      <th>0</th>\n",
       "      <td>willlam</td>\n",
       "      <td>william</td>\n",
       "      <td>will</td>\n",
       "      <td>0.25</td>\n",
       "      <td>1.636364</td>\n",
       "      <td>1.000000</td>\n",
       "      <td>0</td>\n",
       "    </tr>\n",
       "    <tr>\n",
       "      <th>1</th>\n",
       "      <td>willlam</td>\n",
       "      <td>william</td>\n",
       "      <td>willful</td>\n",
       "      <td>0.25</td>\n",
       "      <td>1.607143</td>\n",
       "      <td>0.001712</td>\n",
       "      <td>0</td>\n",
       "    </tr>\n",
       "    <tr>\n",
       "      <th>2</th>\n",
       "      <td>willlam</td>\n",
       "      <td>william</td>\n",
       "      <td>william</td>\n",
       "      <td>0.75</td>\n",
       "      <td>2.142857</td>\n",
       "      <td>0.039954</td>\n",
       "      <td>1</td>\n",
       "    </tr>\n",
       "    <tr>\n",
       "      <th>3</th>\n",
       "      <td>willlam</td>\n",
       "      <td>william</td>\n",
       "      <td>williams</td>\n",
       "      <td>0.50</td>\n",
       "      <td>1.866667</td>\n",
       "      <td>0.003995</td>\n",
       "      <td>0</td>\n",
       "    </tr>\n",
       "    <tr>\n",
       "      <th>4</th>\n",
       "      <td>willlam</td>\n",
       "      <td>william</td>\n",
       "      <td>willing</td>\n",
       "      <td>0.25</td>\n",
       "      <td>1.285714</td>\n",
       "      <td>0.006849</td>\n",
       "      <td>0</td>\n",
       "    </tr>\n",
       "    <tr>\n",
       "      <th>5</th>\n",
       "      <td>willlam</td>\n",
       "      <td>william</td>\n",
       "      <td>wills</td>\n",
       "      <td>0.25</td>\n",
       "      <td>1.500000</td>\n",
       "      <td>0.000571</td>\n",
       "      <td>0</td>\n",
       "    </tr>\n",
       "    <tr>\n",
       "      <th>6</th>\n",
       "      <td>nvolvng</td>\n",
       "      <td>involving</td>\n",
       "      <td>cooling</td>\n",
       "      <td>0.25</td>\n",
       "      <td>0.857143</td>\n",
       "      <td>0.011494</td>\n",
       "      <td>0</td>\n",
       "    </tr>\n",
       "    <tr>\n",
       "      <th>7</th>\n",
       "      <td>nvolvng</td>\n",
       "      <td>involving</td>\n",
       "      <td>evolve</td>\n",
       "      <td>0.25</td>\n",
       "      <td>0.961538</td>\n",
       "      <td>0.045977</td>\n",
       "      <td>0</td>\n",
       "    </tr>\n",
       "    <tr>\n",
       "      <th>8</th>\n",
       "      <td>nvolvng</td>\n",
       "      <td>involving</td>\n",
       "      <td>evolved</td>\n",
       "      <td>0.25</td>\n",
       "      <td>0.892857</td>\n",
       "      <td>0.034483</td>\n",
       "      <td>0</td>\n",
       "    </tr>\n",
       "    <tr>\n",
       "      <th>9</th>\n",
       "      <td>nvolvng</td>\n",
       "      <td>involving</td>\n",
       "      <td>evolves</td>\n",
       "      <td>0.25</td>\n",
       "      <td>0.892857</td>\n",
       "      <td>0.011494</td>\n",
       "      <td>0</td>\n",
       "    </tr>\n",
       "    <tr>\n",
       "      <th>10</th>\n",
       "      <td>nvolvng</td>\n",
       "      <td>involving</td>\n",
       "      <td>evolving</td>\n",
       "      <td>0.50</td>\n",
       "      <td>1.633333</td>\n",
       "      <td>0.057471</td>\n",
       "      <td>0</td>\n",
       "    </tr>\n",
       "    <tr>\n",
       "      <th>11</th>\n",
       "      <td>nvolvng</td>\n",
       "      <td>involving</td>\n",
       "      <td>involvad</td>\n",
       "      <td>0.25</td>\n",
       "      <td>0.833333</td>\n",
       "      <td>0.011494</td>\n",
       "      <td>0</td>\n",
       "    </tr>\n",
       "    <tr>\n",
       "      <th>12</th>\n",
       "      <td>nvolvng</td>\n",
       "      <td>involving</td>\n",
       "      <td>involve</td>\n",
       "      <td>0.25</td>\n",
       "      <td>0.892857</td>\n",
       "      <td>0.126437</td>\n",
       "      <td>0</td>\n",
       "    </tr>\n",
       "    <tr>\n",
       "      <th>13</th>\n",
       "      <td>nvolvng</td>\n",
       "      <td>involving</td>\n",
       "      <td>involved</td>\n",
       "      <td>0.25</td>\n",
       "      <td>0.833333</td>\n",
       "      <td>1.000000</td>\n",
       "      <td>0</td>\n",
       "    </tr>\n",
       "    <tr>\n",
       "      <th>14</th>\n",
       "      <td>nvolvng</td>\n",
       "      <td>involving</td>\n",
       "      <td>involves</td>\n",
       "      <td>0.25</td>\n",
       "      <td>0.833333</td>\n",
       "      <td>0.160920</td>\n",
       "      <td>0</td>\n",
       "    </tr>\n",
       "    <tr>\n",
       "      <th>15</th>\n",
       "      <td>nvolvng</td>\n",
       "      <td>involving</td>\n",
       "      <td>involve­</td>\n",
       "      <td>0.25</td>\n",
       "      <td>0.833333</td>\n",
       "      <td>0.011494</td>\n",
       "      <td>0</td>\n",
       "    </tr>\n",
       "    <tr>\n",
       "      <th>16</th>\n",
       "      <td>nvolvng</td>\n",
       "      <td>involving</td>\n",
       "      <td>involving</td>\n",
       "      <td>0.50</td>\n",
       "      <td>1.656250</td>\n",
       "      <td>0.505747</td>\n",
       "      <td>1</td>\n",
       "    </tr>\n",
       "    <tr>\n",
       "      <th>17</th>\n",
       "      <td>nvolvng</td>\n",
       "      <td>involving</td>\n",
       "      <td>lnvolva</td>\n",
       "      <td>0.25</td>\n",
       "      <td>0.892857</td>\n",
       "      <td>0.011494</td>\n",
       "      <td>0</td>\n",
       "    </tr>\n",
       "    <tr>\n",
       "      <th>18</th>\n",
       "      <td>nvolvng</td>\n",
       "      <td>involving</td>\n",
       "      <td>noting</td>\n",
       "      <td>0.25</td>\n",
       "      <td>0.807692</td>\n",
       "      <td>0.057471</td>\n",
       "      <td>0</td>\n",
       "    </tr>\n",
       "    <tr>\n",
       "      <th>19</th>\n",
       "      <td>nvolvng</td>\n",
       "      <td>involving</td>\n",
       "      <td>solving</td>\n",
       "      <td>0.25</td>\n",
       "      <td>1.035714</td>\n",
       "      <td>0.022989</td>\n",
       "      <td>0</td>\n",
       "    </tr>\n",
       "  </tbody>\n",
       "</table>\n",
       "</div>"
      ],
      "text/plain": [
       "       Typo      Truth  Candidate  led_score  ss_score  lp_score  Label\n",
       "0   willlam    william       will       0.25  1.636364  1.000000      0\n",
       "1   willlam    william    willful       0.25  1.607143  0.001712      0\n",
       "2   willlam    william    william       0.75  2.142857  0.039954      1\n",
       "3   willlam    william   williams       0.50  1.866667  0.003995      0\n",
       "4   willlam    william    willing       0.25  1.285714  0.006849      0\n",
       "5   willlam    william      wills       0.25  1.500000  0.000571      0\n",
       "6   nvolvng  involving    cooling       0.25  0.857143  0.011494      0\n",
       "7   nvolvng  involving     evolve       0.25  0.961538  0.045977      0\n",
       "8   nvolvng  involving    evolved       0.25  0.892857  0.034483      0\n",
       "9   nvolvng  involving    evolves       0.25  0.892857  0.011494      0\n",
       "10  nvolvng  involving   evolving       0.50  1.633333  0.057471      0\n",
       "11  nvolvng  involving   involvad       0.25  0.833333  0.011494      0\n",
       "12  nvolvng  involving    involve       0.25  0.892857  0.126437      0\n",
       "13  nvolvng  involving   involved       0.25  0.833333  1.000000      0\n",
       "14  nvolvng  involving   involves       0.25  0.833333  0.160920      0\n",
       "15  nvolvng  involving   involve­       0.25  0.833333  0.011494      0\n",
       "16  nvolvng  involving  involving       0.50  1.656250  0.505747      1\n",
       "17  nvolvng  involving    lnvolva       0.25  0.892857  0.011494      0\n",
       "18  nvolvng  involving     noting       0.25  0.807692  0.057471      0\n",
       "19  nvolvng  involving    solving       0.25  1.035714  0.022989      0"
      ]
     },
     "execution_count": 4,
     "metadata": {},
     "output_type": "execute_result"
    }
   ],
   "source": [
    "feature_output.head(20)"
   ]
  },
  {
   "cell_type": "code",
   "execution_count": 5,
   "metadata": {
    "collapsed": false
   },
   "outputs": [],
   "source": [
    "X = feature_output[feature_output.columns[3:6]]\n",
    "y = feature_output[\"Label\"]"
   ]
  },
  {
   "cell_type": "markdown",
   "metadata": {},
   "source": [
    "#### Train & Test split"
   ]
  },
  {
   "cell_type": "code",
   "execution_count": 6,
   "metadata": {
    "collapsed": false
   },
   "outputs": [],
   "source": [
    "from sklearn.model_selection import train_test_split\n",
    "X_train, X_test, y_train, y_test = train_test_split(X, y, test_size=0.2,shuffle=True ,random_state=42)"
   ]
  },
  {
   "cell_type": "code",
   "execution_count": 7,
   "metadata": {
    "collapsed": false
   },
   "outputs": [
    {
     "name": "stdout",
     "output_type": "stream",
     "text": [
      "X_train shape: (1122748, 3) \n",
      " y_train shape: (1122748,)\n"
     ]
    }
   ],
   "source": [
    "print('X_train shape:',X_train.shape,'\\n','y_train shape:',y_train.shape)"
   ]
  },
  {
   "cell_type": "code",
   "execution_count": 8,
   "metadata": {
    "collapsed": false
   },
   "outputs": [
    {
     "name": "stdout",
     "output_type": "stream",
     "text": [
      "X_test shape: (280687, 3) \n",
      " y_test shape: (280687,)\n"
     ]
    }
   ],
   "source": [
    "print('X_test shape:',X_test.shape,'\\n','y_test shape:',y_test.shape)"
   ]
  },
  {
   "cell_type": "markdown",
   "metadata": {},
   "source": [
    "## Ada Boost"
   ]
  },
  {
   "cell_type": "code",
   "execution_count": 9,
   "metadata": {
    "collapsed": true
   },
   "outputs": [],
   "source": [
    "model = AdaBoostClassifier()"
   ]
  },
  {
   "cell_type": "markdown",
   "metadata": {},
   "source": [
    "## Parameters Tunning"
   ]
  },
  {
   "cell_type": "code",
   "execution_count": 22,
   "metadata": {
    "collapsed": false
   },
   "outputs": [],
   "source": [
    "parameters = {\n",
    " 'n_estimators': [50, 100],\n",
    " 'learning_rate' : [0.01,0.05,0.1,0.3,1],\n",
    " }"
   ]
  },
  {
   "cell_type": "code",
   "execution_count": 23,
   "metadata": {
    "collapsed": false
   },
   "outputs": [
    {
     "name": "stdout",
     "output_type": "stream",
     "text": [
      "Time: 1126.7511036396027\n"
     ]
    }
   ],
   "source": [
    "start = time.time()\n",
    "ada_grid_search = GridSearchCV(model,parameters,cv = 3)\n",
    "ada_grid_search_fit = ada_grid_search.fit(X_train, y_train)\n",
    "end = time.time()\n",
    "print('Time:',end - start)"
   ]
  },
  {
   "cell_type": "code",
   "execution_count": 26,
   "metadata": {
    "collapsed": false
   },
   "outputs": [
    {
     "data": {
      "text/plain": [
       "{'learning_rate': 0.3, 'n_estimators': 100}"
      ]
     },
     "execution_count": 26,
     "metadata": {},
     "output_type": "execute_result"
    }
   ],
   "source": [
    "ada_grid_search_fit.best_params_"
   ]
  },
  {
   "cell_type": "code",
   "execution_count": 40,
   "metadata": {
    "collapsed": false
   },
   "outputs": [
    {
     "data": {
      "text/plain": [
       "AdaBoostClassifier(algorithm='SAMME.R', base_estimator=None,\n",
       "          learning_rate=0.3, n_estimators=100, random_state=None)"
      ]
     },
     "execution_count": 40,
     "metadata": {},
     "output_type": "execute_result"
    }
   ],
   "source": [
    "ada_grid_search_fit.best_estimator_"
   ]
  },
  {
   "cell_type": "code",
   "execution_count": 46,
   "metadata": {
    "collapsed": false
   },
   "outputs": [
    {
     "name": "stdout",
     "output_type": "stream",
     "text": [
      "0.998281003395241\n"
     ]
    }
   ],
   "source": [
    "print(ada_grid_search_fit.best_score_)"
   ]
  },
  {
   "cell_type": "code",
   "execution_count": null,
   "metadata": {
    "collapsed": true
   },
   "outputs": [],
   "source": []
  }
 ],
 "metadata": {
  "kernelspec": {
   "display_name": "Python 3",
   "language": "python",
   "name": "python3"
  },
  "language_info": {
   "codemirror_mode": {
    "name": "ipython",
    "version": 3
   },
   "file_extension": ".py",
   "mimetype": "text/x-python",
   "name": "python",
   "nbconvert_exporter": "python",
   "pygments_lexer": "ipython3",
   "version": "3.5.5"
  }
 },
 "nbformat": 4,
 "nbformat_minor": 2
}
